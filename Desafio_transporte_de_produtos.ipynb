{
  "nbformat": 4,
  "nbformat_minor": 0,
  "metadata": {
    "colab": {
      "name": "Cópia de Algoritmos de otimização - transporte de produtos.ipynb",
      "provenance": [],
      "include_colab_link": true
    },
    "kernelspec": {
      "name": "python3",
      "display_name": "Python 3"
    }
  },
  "cells": [
    {
      "cell_type": "markdown",
      "metadata": {
        "id": "view-in-github",
        "colab_type": "text"
      },
      "source": [
        "<a href=\"https://colab.research.google.com/github/igoradriano/Inteligencia-Artificial/blob/main/Desafio_transporte_de_produtos.ipynb\" target=\"_parent\"><img src=\"https://colab.research.google.com/assets/colab-badge.svg\" alt=\"Open In Colab\"/></a>"
      ]
    },
    {
      "cell_type": "markdown",
      "metadata": {
        "id": "m4fZzXnRFW0i"
      },
      "source": [
        "# Algoritmos de otimização - transporte de produtos"
      ]
    },
    {
      "cell_type": "code",
      "metadata": {
        "id": "JNVoTIBnFONn",
        "colab": {
          "base_uri": "https://localhost:8080/"
        },
        "outputId": "7916e000-a663-4e2e-f02f-bde0aabe01da"
      },
      "source": [
        "!pip install mlrose"
      ],
      "execution_count": 49,
      "outputs": [
        {
          "output_type": "stream",
          "text": [
            "Requirement already satisfied: mlrose in /usr/local/lib/python3.7/dist-packages (1.3.0)\n",
            "Requirement already satisfied: sklearn in /usr/local/lib/python3.7/dist-packages (from mlrose) (0.0)\n",
            "Requirement already satisfied: numpy in /usr/local/lib/python3.7/dist-packages (from mlrose) (1.19.5)\n",
            "Requirement already satisfied: scipy in /usr/local/lib/python3.7/dist-packages (from mlrose) (1.4.1)\n",
            "Requirement already satisfied: scikit-learn in /usr/local/lib/python3.7/dist-packages (from sklearn->mlrose) (0.22.2.post1)\n",
            "Requirement already satisfied: joblib>=0.11 in /usr/local/lib/python3.7/dist-packages (from scikit-learn->sklearn->mlrose) (1.0.1)\n"
          ],
          "name": "stdout"
        }
      ]
    },
    {
      "cell_type": "code",
      "metadata": {
        "id": "RDMMYF51I3Tn"
      },
      "source": [
        "import mlrose"
      ],
      "execution_count": 50,
      "outputs": []
    },
    {
      "cell_type": "markdown",
      "metadata": {
        "id": "z12zZlrNI1L8"
      },
      "source": [
        "## Representação do problema"
      ]
    },
    {
      "cell_type": "code",
      "metadata": {
        "id": "wDLbNo1xWibM"
      },
      "source": [
        "produtos = [('Refrigerador A', 0.751, 999.90),\n",
        "            ('Celular', 0.0000899, 2911.12),\n",
        "            ('TV 55', 0.400, 4346.99),\n",
        "            ('TV 50', 0.290, 3999.90),\n",
        "            ('TV 42', 0.200, 2999.00),\n",
        "            ('Notebook A', 0.00350, 2499.90),\n",
        "            ('Ventilador', 0.496, 199.90),\n",
        "            ('Microondas A', 0.0424, 308.66),\n",
        "            ('Microondas B', 0.0544, 429.90),\n",
        "            ('Microondas C', 0.0319, 299.29),\n",
        "            ('Refrigerador B', 0.635, 849.00),\n",
        "            ('Refrigerador C', 0.870, 1199.89),\n",
        "            ('Notebook B', 0.498, 1999.90),\n",
        "            ('Notebook C', 0.527, 3999.00)]\n",
        "espaco_disponivel = 3"
      ],
      "execution_count": 51,
      "outputs": []
    },
    {
      "cell_type": "code",
      "metadata": {
        "id": "TbZhWxigbB_8",
        "colab": {
          "base_uri": "https://localhost:8080/"
        },
        "outputId": "3b1e56ab-a083-416c-9981-4e77fd703e3f"
      },
      "source": [
        "produtos[0], produtos[0][0], produtos[0][1], produtos[0][2]"
      ],
      "execution_count": 52,
      "outputs": [
        {
          "output_type": "execute_result",
          "data": {
            "text/plain": [
              "(('Refrigerador A', 0.751, 999.9), 'Refrigerador A', 0.751, 999.9)"
            ]
          },
          "metadata": {
            "tags": []
          },
          "execution_count": 52
        }
      ]
    },
    {
      "cell_type": "code",
      "metadata": {
        "id": "ujAJAoZQ1oCi"
      },
      "source": [
        "def imprimir_solucao(solucao):\n",
        "  for i in range(len(solucao)):\n",
        "    if solucao[i] == 1:\n",
        "      print('%s - %s' % (produtos[i][0], produtos[i][2]))"
      ],
      "execution_count": 53,
      "outputs": []
    },
    {
      "cell_type": "code",
      "metadata": {
        "id": "zt0oFhV9bTmU",
        "colab": {
          "base_uri": "https://localhost:8080/"
        },
        "outputId": "3d1dea99-3165-462f-fd3e-e9700a3b2843"
      },
      "source": [
        "imprimir_solucao([0, 1, 1, 1, 0, 0, 1, 0, 1, 0, 1, 1, 0, 1])"
      ],
      "execution_count": 54,
      "outputs": [
        {
          "output_type": "stream",
          "text": [
            "Celular - 2911.12\n",
            "TV 55 - 4346.99\n",
            "TV 50 - 3999.9\n",
            "Ventilador - 199.9\n",
            "Microondas B - 429.9\n",
            "Refrigerador B - 849.0\n",
            "Refrigerador C - 1199.89\n",
            "Notebook C - 3999.0\n"
          ],
          "name": "stdout"
        }
      ]
    },
    {
      "cell_type": "code",
      "metadata": {
        "id": "IZAWc1C7WoyG"
      },
      "source": [
        "def fitness_function(solucao):\n",
        "  custo = 0\n",
        "  soma_espaco = 0\n",
        "  for i in range(len(solucao)):\n",
        "    if solucao[i] == 1:\n",
        "      custo += produtos[i][2]\n",
        "      soma_espaco += produtos[i][1]\n",
        "  if soma_espaco > espaco_disponivel:\n",
        "    custo = 1\n",
        "  return custo"
      ],
      "execution_count": 55,
      "outputs": []
    },
    {
      "cell_type": "code",
      "metadata": {
        "id": "EMmRB8_kcAlp",
        "colab": {
          "base_uri": "https://localhost:8080/"
        },
        "outputId": "941d9fa1-6abd-4b97-be95-0918697bce7c"
      },
      "source": [
        "fitness_function([0, 1, 0, 1, 0, 0, 1, 0, 1, 0, 1, 1, 0, 1])"
      ],
      "execution_count": 56,
      "outputs": [
        {
          "output_type": "execute_result",
          "data": {
            "text/plain": [
              "13588.71"
            ]
          },
          "metadata": {
            "tags": []
          },
          "execution_count": 56
        }
      ]
    },
    {
      "cell_type": "code",
      "metadata": {
        "id": "kzRooBieJhax"
      },
      "source": [
        "fitness = mlrose.CustomFitness(fitness_function)"
      ],
      "execution_count": 57,
      "outputs": []
    },
    {
      "cell_type": "code",
      "metadata": {
        "id": "R_v7bi5GJvwk"
      },
      "source": [
        "problema = mlrose.DiscreteOpt(length = 14, fitness_fn = fitness, \n",
        "                             maximize = True, max_val = 2)"
      ],
      "execution_count": 58,
      "outputs": []
    },
    {
      "cell_type": "markdown",
      "metadata": {
        "id": "TfNpB5slN7Cp"
      },
      "source": [
        "## Hill climb"
      ]
    },
    {
      "cell_type": "code",
      "metadata": {
        "id": "l4eyqdAbOS0p",
        "colab": {
          "base_uri": "https://localhost:8080/"
        },
        "outputId": "0e68dc1d-4ec0-4a2d-d63c-a4d7595a01f1"
      },
      "source": [
        "melhor_solucao, melhor_custo = mlrose.hill_climb(problema)\n",
        "melhor_solucao, melhor_custo"
      ],
      "execution_count": 59,
      "outputs": [
        {
          "output_type": "execute_result",
          "data": {
            "text/plain": [
              "(array([0, 1, 1, 1, 1, 1, 1, 1, 1, 1, 0, 0, 1, 1]), 23993.560000000005)"
            ]
          },
          "metadata": {
            "tags": []
          },
          "execution_count": 59
        }
      ]
    },
    {
      "cell_type": "code",
      "metadata": {
        "id": "mvt4jVU51v3P",
        "colab": {
          "base_uri": "https://localhost:8080/"
        },
        "outputId": "a6b62d8f-0902-4fce-dd7b-7cd35603ed0a"
      },
      "source": [
        "imprimir_solucao(melhor_solucao)"
      ],
      "execution_count": 60,
      "outputs": [
        {
          "output_type": "stream",
          "text": [
            "Celular - 2911.12\n",
            "TV 55 - 4346.99\n",
            "TV 50 - 3999.9\n",
            "TV 42 - 2999.0\n",
            "Notebook A - 2499.9\n",
            "Ventilador - 199.9\n",
            "Microondas A - 308.66\n",
            "Microondas B - 429.9\n",
            "Microondas C - 299.29\n",
            "Notebook B - 1999.9\n",
            "Notebook C - 3999.0\n"
          ],
          "name": "stdout"
        }
      ]
    },
    {
      "cell_type": "markdown",
      "metadata": {
        "id": "ZU8cD5k2N8wO"
      },
      "source": [
        "## Simulated annealing"
      ]
    },
    {
      "cell_type": "code",
      "metadata": {
        "id": "L9KjmUcMKGh_",
        "colab": {
          "base_uri": "https://localhost:8080/"
        },
        "outputId": "9d638d3b-57af-44fe-9f3c-7699da26d812"
      },
      "source": [
        "melhor_solucao, melhor_custo = mlrose.simulated_annealing(problema)\n",
        "melhor_solucao, melhor_custo"
      ],
      "execution_count": 61,
      "outputs": [
        {
          "output_type": "stream",
          "text": [
            "/usr/local/lib/python3.7/dist-packages/mlrose/algorithms.py:311: RuntimeWarning: overflow encountered in exp\n",
            "  prob = np.exp(delta_e/temp)\n"
          ],
          "name": "stderr"
        },
        {
          "output_type": "execute_result",
          "data": {
            "text/plain": [
              "(array([1, 1, 0, 1, 1, 1, 1, 1, 1, 1, 0, 1, 0, 0]), 15847.46)"
            ]
          },
          "metadata": {
            "tags": []
          },
          "execution_count": 61
        }
      ]
    },
    {
      "cell_type": "code",
      "metadata": {
        "id": "AaS5qBdE13Ba",
        "colab": {
          "base_uri": "https://localhost:8080/"
        },
        "outputId": "c1f11b60-97e4-43ca-8b24-65b31bbeff69"
      },
      "source": [
        "imprimir_solucao(melhor_solucao)"
      ],
      "execution_count": 62,
      "outputs": [
        {
          "output_type": "stream",
          "text": [
            "Refrigerador A - 999.9\n",
            "Celular - 2911.12\n",
            "TV 50 - 3999.9\n",
            "TV 42 - 2999.0\n",
            "Notebook A - 2499.9\n",
            "Ventilador - 199.9\n",
            "Microondas A - 308.66\n",
            "Microondas B - 429.9\n",
            "Microondas C - 299.29\n",
            "Refrigerador C - 1199.89\n"
          ],
          "name": "stdout"
        }
      ]
    },
    {
      "cell_type": "markdown",
      "metadata": {
        "id": "D3xrk8dfOAJF"
      },
      "source": [
        "## Algoritmo genético"
      ]
    },
    {
      "cell_type": "code",
      "metadata": {
        "id": "YPQPoUKPP7vN",
        "colab": {
          "base_uri": "https://localhost:8080/"
        },
        "outputId": "19c5e210-dd30-475e-ba65-8c2e09435125"
      },
      "source": [
        "melhor_solucao, melhor_custo = mlrose.genetic_alg(problema, pop_size=500, mutation_prob=0.2)\n",
        "melhor_solucao, melhor_custo"
      ],
      "execution_count": 63,
      "outputs": [
        {
          "output_type": "execute_result",
          "data": {
            "text/plain": [
              "(array([1, 1, 1, 1, 1, 1, 0, 1, 1, 1, 0, 0, 1, 1]), 24793.560000000005)"
            ]
          },
          "metadata": {
            "tags": []
          },
          "execution_count": 63
        }
      ]
    },
    {
      "cell_type": "code",
      "metadata": {
        "id": "r7fk0Z9B18jT",
        "colab": {
          "base_uri": "https://localhost:8080/"
        },
        "outputId": "2475ce0c-18a8-441d-dab5-e68f5e22b3f8"
      },
      "source": [
        "imprimir_solucao(melhor_solucao)"
      ],
      "execution_count": 64,
      "outputs": [
        {
          "output_type": "stream",
          "text": [
            "Refrigerador A - 999.9\n",
            "Celular - 2911.12\n",
            "TV 55 - 4346.99\n",
            "TV 50 - 3999.9\n",
            "TV 42 - 2999.0\n",
            "Notebook A - 2499.9\n",
            "Microondas A - 308.66\n",
            "Microondas B - 429.9\n",
            "Microondas C - 299.29\n",
            "Notebook B - 1999.9\n",
            "Notebook C - 3999.0\n"
          ],
          "name": "stdout"
        }
      ]
    }
  ]
}