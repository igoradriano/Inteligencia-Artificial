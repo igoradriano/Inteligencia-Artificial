{
  "nbformat": 4,
  "nbformat_minor": 0,
  "metadata": {
    "colab": {
      "name": "Cópia de Algoritmos de otimização - calendário de voos.ipynb",
      "provenance": [],
      "collapsed_sections": [],
      "include_colab_link": true
    },
    "kernelspec": {
      "name": "python3",
      "display_name": "Python 3"
    }
  },
  "cells": [
    {
      "cell_type": "markdown",
      "metadata": {
        "id": "view-in-github",
        "colab_type": "text"
      },
      "source": [
        "<a href=\"https://colab.research.google.com/github/igoradriano/Inteligencia-Artificial/blob/main/Algoritmos_de_otimiza%C3%A7%C3%A3o_calend%C3%A1rio_de_voos.ipynb\" target=\"_parent\"><img src=\"https://colab.research.google.com/assets/colab-badge.svg\" alt=\"Open In Colab\"/></a>"
      ]
    },
    {
      "cell_type": "markdown",
      "metadata": {
        "id": "lmY8JVlQxXjj"
      },
      "source": [
        "# Algoritmos de otimização - calendário de voos"
      ]
    },
    {
      "cell_type": "markdown",
      "metadata": {
        "id": "iA6XSNeifEB0"
      },
      "source": [
        "## Representação do problema"
      ]
    },
    {
      "cell_type": "code",
      "metadata": {
        "id": "tgkqEoRdxgfw"
      },
      "source": [
        "#TUPLA\n",
        "pessoas = [('Lisboa', 'LIS'), \n",
        "           ('Madrid', 'MAD'),\n",
        "           ('Paris', 'CDG'),\n",
        "           ('Dublin', 'DUB'),\n",
        "           ('Bruxelas', 'BRU'),\n",
        "           ('Londres', 'LHR')]"
      ],
      "execution_count": 1,
      "outputs": []
    },
    {
      "cell_type": "code",
      "metadata": {
        "id": "6YkrP_6zx2--",
        "colab": {
          "base_uri": "https://localhost:8080/"
        },
        "outputId": "57bd05bf-999e-4372-fc07-58bc775c20a9"
      },
      "source": [
        "pessoas[5]"
      ],
      "execution_count": 2,
      "outputs": [
        {
          "output_type": "execute_result",
          "data": {
            "text/plain": [
              "('Londres', 'LHR')"
            ]
          },
          "metadata": {
            "tags": []
          },
          "execution_count": 2
        }
      ]
    },
    {
      "cell_type": "code",
      "metadata": {
        "id": "FezIjellyATt"
      },
      "source": [
        "destino = 'FCO'  # Destino Final"
      ],
      "execution_count": 3,
      "outputs": []
    },
    {
      "cell_type": "code",
      "metadata": {
        "id": "ZxUhP_RCyloI"
      },
      "source": [
        "voos = {('BRU', 'FCO'): ['15:44', '18:55', 382]}  #Chave -> Tupla : Valor -> Lista ; Tudo dentro de um dict"
      ],
      "execution_count": 4,
      "outputs": []
    },
    {
      "cell_type": "code",
      "metadata": {
        "id": "JTDv4v96y2eT",
        "colab": {
          "base_uri": "https://localhost:8080/"
        },
        "outputId": "64161328-02c2-41cb-e9f6-7d20ad029950"
      },
      "source": [
        "voos"
      ],
      "execution_count": 5,
      "outputs": [
        {
          "output_type": "execute_result",
          "data": {
            "text/plain": [
              "{('BRU', 'FCO'): ['15:44', '18:55', 382]}"
            ]
          },
          "metadata": {
            "tags": []
          },
          "execution_count": 5
        }
      ]
    },
    {
      "cell_type": "code",
      "metadata": {
        "id": "9dHRjcXGy6CR",
        "colab": {
          "base_uri": "https://localhost:8080/"
        },
        "outputId": "9b96c575-e937-49fe-ac18-1c8c91743862"
      },
      "source": [
        "voos[('BRU', 'FCO')]"
      ],
      "execution_count": 6,
      "outputs": [
        {
          "output_type": "execute_result",
          "data": {
            "text/plain": [
              "['15:44', '18:55', 382]"
            ]
          },
          "metadata": {
            "tags": []
          },
          "execution_count": 6
        }
      ]
    },
    {
      "cell_type": "code",
      "metadata": {
        "id": "0brRvL3CzAfU",
        "colab": {
          "base_uri": "https://localhost:8080/",
          "height": 35
        },
        "outputId": "9e252dbe-f72c-4448-b926-6f0d0c082a1a"
      },
      "source": [
        "voos[('BRU', 'FCO')][0]"
      ],
      "execution_count": 7,
      "outputs": [
        {
          "output_type": "execute_result",
          "data": {
            "application/vnd.google.colaboratory.intrinsic+json": {
              "type": "string"
            },
            "text/plain": [
              "'15:44'"
            ]
          },
          "metadata": {
            "tags": []
          },
          "execution_count": 7
        }
      ]
    },
    {
      "cell_type": "code",
      "metadata": {
        "colab": {
          "base_uri": "https://localhost:8080/",
          "height": 35
        },
        "id": "lm0RG0bqn3YW",
        "outputId": "78f6f60f-7ac9-4a42-fcba-13a5ad4da634"
      },
      "source": [
        "voos[('BRU', 'FCO')][1]\n"
      ],
      "execution_count": 8,
      "outputs": [
        {
          "output_type": "execute_result",
          "data": {
            "application/vnd.google.colaboratory.intrinsic+json": {
              "type": "string"
            },
            "text/plain": [
              "'18:55'"
            ]
          },
          "metadata": {
            "tags": []
          },
          "execution_count": 8
        }
      ]
    },
    {
      "cell_type": "code",
      "metadata": {
        "colab": {
          "base_uri": "https://localhost:8080/"
        },
        "id": "VvemS99xn41B",
        "outputId": "67e0e395-9a28-4588-cb54-929e09454981"
      },
      "source": [
        "voos[('BRU', 'FCO')][2]"
      ],
      "execution_count": 9,
      "outputs": [
        {
          "output_type": "execute_result",
          "data": {
            "text/plain": [
              "382"
            ]
          },
          "metadata": {
            "tags": []
          },
          "execution_count": 9
        }
      ]
    },
    {
      "cell_type": "code",
      "metadata": {
        "id": "i4pk1lYDyaaY"
      },
      "source": [
        "voos = {}\n",
        "for linha in open('/content/flights.txt'):\n",
        "  #print(linha)\n",
        "  #print(linha.split(','))\n",
        "  origem, destino, saida, chegada, preco = linha.split(',') # onde tiver \",\" ele vai quebrar a Strig e atribuir cada parte a uma varivel\n",
        "  voos.setdefault((origem, destino), []) #No dicionário Python, o método setdefault () retorna o valor de uma chave (se a chave estiver no dicionário). Caso contrário, ele insere uma chave com um valor no dicionário.\n",
        "  voos[(origem, destino)].append((saida, chegada, int(preco)))  #voo[0].append(1,2,3) --> {0:[1,2,3]}"
      ],
      "execution_count": 10,
      "outputs": []
    },
    {
      "cell_type": "code",
      "metadata": {
        "id": "nGEmfppez90U",
        "colab": {
          "base_uri": "https://localhost:8080/"
        },
        "outputId": "bf361b93-2a66-43ec-968b-6808b40e2c58"
      },
      "source": [
        "voos"
      ],
      "execution_count": 11,
      "outputs": [
        {
          "output_type": "execute_result",
          "data": {
            "text/plain": [
              "{('BRU', 'FCO'): [('6:12', '10:22', 230),\n",
              "  ('7:53', '11:37', 433),\n",
              "  ('9:08', '12:12', 364),\n",
              "  ('10:30', '14:57', 290),\n",
              "  ('12:19', '15:25', 342),\n",
              "  ('13:54', '18:02', 294),\n",
              "  ('15:44', '18:55', 382),\n",
              "  ('16:52', '20:48', 448),\n",
              "  ('18:26', '21:29', 464),\n",
              "  ('20:07', '23:27', 473)],\n",
              " ('CDG', 'FCO'): [('6:25', '9:30', 335),\n",
              "  ('7:34', '9:40', 324),\n",
              "  ('9:15', '12:29', 225),\n",
              "  ('11:28', '14:40', 248),\n",
              "  ('12:05', '15:30', 330),\n",
              "  ('14:01', '17:24', 338),\n",
              "  ('15:34', '18:11', 326),\n",
              "  ('17:07', '20:04', 291),\n",
              "  ('18:23', '21:35', 134),\n",
              "  ('19:53', '22:21', 173)],\n",
              " ('DUB', 'FCO'): [('6:17', '8:26', 89),\n",
              "  ('8:04', '10:11', 95),\n",
              "  ('9:45', '11:50', 172),\n",
              "  ('11:16', '13:29', 83),\n",
              "  ('12:34', '15:02', 109),\n",
              "  ('13:40', '15:37', 138),\n",
              "  ('15:27', '17:18', 151),\n",
              "  ('17:11', '18:30', 108),\n",
              "  ('18:34', '19:36', 136),\n",
              "  ('20:17', '22:22', 102)],\n",
              " ('FCO', 'BRU'): [('6:09', '9:49', 414),\n",
              "  ('7:57', '11:15', 347),\n",
              "  ('9:49', '13:51', 229),\n",
              "  ('10:51', '14:16', 256),\n",
              "  ('12:20', '16:34', 500),\n",
              "  ('14:20', '17:32', 332),\n",
              "  ('15:49', '20:10', 497),\n",
              "  ('17:14', '20:59', 277),\n",
              "  ('18:44', '22:42', 351),\n",
              "  ('19:57', '23:15', 512)],\n",
              " ('FCO', 'CDG'): [('6:33', '9:14', 172),\n",
              "  ('8:23', '11:07', 143),\n",
              "  ('9:25', '12:46', 295),\n",
              "  ('11:08', '14:38', 262),\n",
              "  ('12:37', '15:05', 170),\n",
              "  ('14:08', '16:09', 232),\n",
              "  ('15:23', '18:49', 150),\n",
              "  ('16:50', '19:26', 304),\n",
              "  ('18:07', '21:30', 355),\n",
              "  ('20:27', '23:42', 169)],\n",
              " ('FCO', 'DUB'): [('6:39', '8:09', 86),\n",
              "  ('8:23', '10:28', 149),\n",
              "  ('9:58', '11:18', 130),\n",
              "  ('10:33', '12:03', 74),\n",
              "  ('12:08', '14:05', 142),\n",
              "  ('13:39', '15:30', 74),\n",
              "  ('15:25', '16:58', 62),\n",
              "  ('17:03', '18:03', 103),\n",
              "  ('18:24', '20:49', 124),\n",
              "  ('19:58', '21:23', 142)],\n",
              " ('FCO', 'LHR'): [('6:58', '9:01', 238),\n",
              "  ('8:19', '11:16', 122),\n",
              "  ('9:58', '12:56', 249),\n",
              "  ('10:32', '13:16', 139),\n",
              "  ('12:01', '13:41', 267),\n",
              "  ('13:37', '15:33', 142),\n",
              "  ('15:50', '18:45', 243),\n",
              "  ('16:33', '18:15', 253),\n",
              "  ('18:17', '21:04', 259),\n",
              "  ('19:46', '21:45', 214)],\n",
              " ('FCO', 'LIS'): [('6:19', '8:13', 239),\n",
              "  ('8:04', '10:59', 136),\n",
              "  ('9:31', '11:43', 210),\n",
              "  ('11:07', '13:24', 171),\n",
              "  ('12:31', '14:02', 234),\n",
              "  ('14:05', '15:47', 226),\n",
              "  ('15:07', '17:21', 129),\n",
              "  ('16:35', '18:56', 144),\n",
              "  ('18:25', '20:34', 205),\n",
              "  ('20:05', '21:44', 172)],\n",
              " ('FCO', 'MAD'): [('6:03', '8:43', 219),\n",
              "  ('7:50', '10:08', 164),\n",
              "  ('9:11', '10:42', 172),\n",
              "  ('10:33', '13:11', 132),\n",
              "  ('12:08', '14:47', 231),\n",
              "  ('14:19', '17:09', 190),\n",
              "  ('15:04', '17:23', 189),\n",
              "  ('17:06', '20:00', 95),\n",
              "  ('18:33', '20:22', 143),\n",
              "  ('19:32', '21:25', 160)],\n",
              " ('LHR', 'FCO'): [('6:08', '8:06', 224),\n",
              "  ('8:27', '10:45', 139),\n",
              "  ('9:15', '12:14', 247),\n",
              "  ('10:53', '13:36', 189),\n",
              "  ('12:08', '14:59', 149),\n",
              "  ('13:40', '15:38', 137),\n",
              "  ('15:23', '17:25', 232),\n",
              "  ('17:08', '19:08', 262),\n",
              "  ('18:35', '20:28', 204),\n",
              "  ('20:30', '23:11', 114)],\n",
              " ('LIS', 'FCO'): [('6:11', '8:31', 249),\n",
              "  ('7:39', '10:24', 219),\n",
              "  ('9:15', '12:03', 99),\n",
              "  ('11:08', '13:07', 175),\n",
              "  ('12:18', '14:56', 172),\n",
              "  ('13:37', '15:08', 250),\n",
              "  ('15:03', '16:42', 135),\n",
              "  ('16:51', '19:09', 147),\n",
              "  ('18:12', '20:17', 242),\n",
              "  ('20:05', '22:06', 261)],\n",
              " ('MAD', 'FCO'): [('6:05', '8:32', 174),\n",
              "  ('8:25', '10:34', 157),\n",
              "  ('9:42', '11:32', 169),\n",
              "  ('11:01', '12:39', 260),\n",
              "  ('12:44', '14:17', 134),\n",
              "  ('14:22', '16:32', 126),\n",
              "  ('15:58', '18:40', 173),\n",
              "  ('16:43', '19:00', 246),\n",
              "  ('18:48', '21:45', 246),\n",
              "  ('19:50', '22:24', 269)]}"
            ]
          },
          "metadata": {
            "tags": []
          },
          "execution_count": 11
        }
      ]
    },
    {
      "cell_type": "code",
      "metadata": {
        "id": "eqqk_hK3neFE"
      },
      "source": [
        "#TESTE IGOR\n",
        "def igor_function():\n",
        "  total_preco = 0\n",
        "  price = 0\n",
        "  pricev = 0\n",
        "  m_solucao, m_solucaov,solucao,solucaov  = [],[],[],[]\n",
        "  volta = []\n",
        "  ida = []\n",
        "  for i in range(len(pessoas)):\n",
        "    origem = pessoas[i][1]\n",
        "    price = voos[origem,destino][0][2]\n",
        "    for voo in range(len(voos[origem,destino])):\n",
        "      if voos[origem,destino][voo][2] <= price:\n",
        "        price = voos[origem,destino][voo][2]\n",
        "        m_solucao = []\n",
        "        m_solucao.append(voos[origem,destino][voo])\n",
        "    ida.append(price)\n",
        "    solucao.append(m_solucao)\n",
        "    price = voos[destino,origem][0][2]\n",
        "    for voo in range(len(voos[destino,origem])):\n",
        "      if voos[destino,origem][voo][2] <= price:\n",
        "        price = voos[destino,origem][voo][2]\n",
        "        m_solucaov = []\n",
        "        m_solucaov.append(voos[origem,destino][voo])\n",
        "    volta.append(price)\n",
        "    solucaov.append(m_solucaov)\n",
        "  return  solucao, solucaov"
      ],
      "execution_count": 47,
      "outputs": []
    },
    {
      "cell_type": "code",
      "metadata": {
        "colab": {
          "base_uri": "https://localhost:8080/"
        },
        "id": "XOgQHHLNrzQs",
        "outputId": "28d305c5-125d-4ea5-f991-339a1333fd1a"
      },
      "source": [
        "igor_function()"
      ],
      "execution_count": 48,
      "outputs": [
        {
          "output_type": "execute_result",
          "data": {
            "text/plain": [
              "([[('9:15', '12:03', 99)],\n",
              "  [('14:22', '16:32', 126)],\n",
              "  [('18:23', '21:35', 134)],\n",
              "  [('11:16', '13:29', 83)],\n",
              "  [('6:12', '10:22', 230)],\n",
              "  [('20:30', '23:11', 114)]],\n",
              " [[('15:03', '16:42', 135)],\n",
              "  [('16:43', '19:00', 246)],\n",
              "  [('7:34', '9:40', 324)],\n",
              "  [('15:27', '17:18', 151)],\n",
              "  [('9:08', '12:12', 364)],\n",
              "  [('8:27', '10:45', 139)]])"
            ]
          },
          "metadata": {
            "tags": []
          },
          "execution_count": 48
        }
      ]
    },
    {
      "cell_type": "code",
      "metadata": {
        "id": "a1V3DNay0IjW",
        "colab": {
          "base_uri": "https://localhost:8080/"
        },
        "outputId": "39ce261a-2840-4120-94a4-6f5ba46b3dca"
      },
      "source": [
        "voos[('LIS', 'FCO')]"
      ],
      "execution_count": 14,
      "outputs": [
        {
          "output_type": "execute_result",
          "data": {
            "text/plain": [
              "[('6:11', '8:31', 249),\n",
              " ('7:39', '10:24', 219),\n",
              " ('9:15', '12:03', 99),\n",
              " ('11:08', '13:07', 175),\n",
              " ('12:18', '14:56', 172),\n",
              " ('13:37', '15:08', 250),\n",
              " ('15:03', '16:42', 135),\n",
              " ('16:51', '19:09', 147),\n",
              " ('18:12', '20:17', 242),\n",
              " ('20:05', '22:06', 261)]"
            ]
          },
          "metadata": {
            "tags": []
          },
          "execution_count": 14
        }
      ]
    },
    {
      "cell_type": "code",
      "metadata": {
        "id": "L3kABr7G0OPq",
        "colab": {
          "base_uri": "https://localhost:8080/"
        },
        "outputId": "259de6fe-d97c-4c17-cd4c-739999afa1ce"
      },
      "source": [
        "voos[('FCO', 'LIS')]"
      ],
      "execution_count": 15,
      "outputs": [
        {
          "output_type": "execute_result",
          "data": {
            "text/plain": [
              "[('6:19', '8:13', 239),\n",
              " ('8:04', '10:59', 136),\n",
              " ('9:31', '11:43', 210),\n",
              " ('11:07', '13:24', 171),\n",
              " ('12:31', '14:02', 234),\n",
              " ('14:05', '15:47', 226),\n",
              " ('15:07', '17:21', 129),\n",
              " ('16:35', '18:56', 144),\n",
              " ('18:25', '20:34', 205),\n",
              " ('20:05', '21:44', 172)]"
            ]
          },
          "metadata": {
            "tags": []
          },
          "execution_count": 15
        }
      ]
    },
    {
      "cell_type": "code",
      "metadata": {
        "id": "NzPvuuaW1Wb2",
        "colab": {
          "base_uri": "https://localhost:8080/"
        },
        "outputId": "c84f52dd-a2e2-4986-dd9f-36bbd7d7282f"
      },
      "source": [
        "agenda = [7,2, 3,2, 7,3, 6,3, 2,4, 5,3] #sao 2 voos para cada pessoa, sao 6 pessoas\n",
        "len(agenda)"
      ],
      "execution_count": 16,
      "outputs": [
        {
          "output_type": "execute_result",
          "data": {
            "text/plain": [
              "12"
            ]
          },
          "metadata": {
            "tags": []
          },
          "execution_count": 16
        }
      ]
    },
    {
      "cell_type": "code",
      "metadata": {
        "id": "J6c97ssM2aga",
        "colab": {
          "base_uri": "https://localhost:8080/"
        },
        "outputId": "6d40022e-36b3-45ea-f952-7a18fb34e760"
      },
      "source": [
        "len(agenda) // 2"
      ],
      "execution_count": 17,
      "outputs": [
        {
          "output_type": "execute_result",
          "data": {
            "text/plain": [
              "6"
            ]
          },
          "metadata": {
            "tags": []
          },
          "execution_count": 17
        }
      ]
    },
    {
      "cell_type": "code",
      "metadata": {
        "id": "8bh2eJJ92rkt",
        "colab": {
          "base_uri": "https://localhost:8080/",
          "height": 35
        },
        "outputId": "e4487c3b-a1da-4c34-82c6-701e69c0b7f8"
      },
      "source": [
        "pessoas[1][1]"
      ],
      "execution_count": 18,
      "outputs": [
        {
          "output_type": "execute_result",
          "data": {
            "application/vnd.google.colaboratory.intrinsic+json": {
              "type": "string"
            },
            "text/plain": [
              "'MAD'"
            ]
          },
          "metadata": {
            "tags": []
          },
          "execution_count": 18
        }
      ]
    },
    {
      "cell_type": "code",
      "metadata": {
        "id": "fZ3VCkNY2A5-"
      },
      "source": [
        "def imprimir_voos(agenda):\n",
        "  id_voo = -1 #colocamos um valor inválido inicialmente\n",
        "  total_preco = 0 #set da variacao preco\n",
        "  for i in range(len(agenda) // 2):  # para obtermos apenas 6 laços, ja que sao 6 pessoas\n",
        "    nome = pessoas[i][0] #pega chave a chave do dicionário pessoas e retorna o valor do índice 0 da lista dentro dessa chave\n",
        "    origem = pessoas[i][1] #retorna o indice 1 da lista dentro da posicao i do dicionario pessoas (sigla da origem)\n",
        "    id_voo += 1 #agora incrementamos o id_voo para percorrer a lista agenda e com isso retornar o indice específico da lista dentro do dicionario específico\n",
        "    ida = voos[(origem, destino)][agenda[id_voo]]\n",
        "    total_preco += ida[2]     #ida[0] --> horario ida  ida[1]--> horario chegada  ida[2]--> preco\n",
        "    id_voo += 1 #incremento para pegar o voo de volta\n",
        "    volta = voos[(destino, origem)][agenda[id_voo]]\n",
        "    total_preco += volta[2]\n",
        "    print(f'{nome:10}{origem:4}{ida[0]:>7}-{ida[1]:>5}  R${ida[2]:>4}{volta[0]:>7}-{volta[1]:>5}  R${volta[2]:>4}')\n",
        "    #print('%10s%10s %5s-%5s %3s %5s-%5s %3s' % (nome, origem, ida[0], ida[1], ida[2],\n",
        "                                                #volta[0], volta[1], volta[2])) #JEITO ANTIGO\n",
        "  print('Preço total: R$', total_preco)"
      ],
      "execution_count": 19,
      "outputs": []
    },
    {
      "cell_type": "code",
      "metadata": {
        "id": "zVPPuyby4IXF",
        "colab": {
          "base_uri": "https://localhost:8080/"
        },
        "outputId": "a114b5f2-4ac8-4680-a00f-0596348e4007"
      },
      "source": [
        "agenda = [1,0, 3,2, 7,1, 6,3, 2,4, 5,3]   #Uma solução exemplo apenas (cada termo desses pode ter 10 numeros possiveis)\n",
        "imprimir_voos(agenda)"
      ],
      "execution_count": 20,
      "outputs": [
        {
          "output_type": "stream",
          "text": [
            "Lisboa    LIS    7:39-10:24  R$ 219   6:19- 8:13  R$ 239\n",
            "Madrid    MAD   11:01-12:39  R$ 260   9:11-10:42  R$ 172\n",
            "Paris     CDG   17:07-20:04  R$ 291   8:23-11:07  R$ 143\n",
            "Dublin    DUB   15:27-17:18  R$ 151  10:33-12:03  R$  74\n",
            "Bruxelas  BRU    9:08-12:12  R$ 364  12:20-16:34  R$ 500\n",
            "Londres   LHR   13:40-15:38  R$ 137  10:32-13:16  R$ 139\n",
            "Preço total: R$ 2689\n"
          ],
          "name": "stdout"
        }
      ]
    },
    {
      "cell_type": "code",
      "metadata": {
        "id": "ecuxeMa_43Jn",
        "colab": {
          "base_uri": "https://localhost:8080/"
        },
        "outputId": "5be72896-65c4-4574-cd32-c17fb71c5cd0"
      },
      "source": [
        "10**12 # 10 numeros possiveis para 12 posicoes na lista"
      ],
      "execution_count": 21,
      "outputs": [
        {
          "output_type": "execute_result",
          "data": {
            "text/plain": [
              "1000000000000"
            ]
          },
          "metadata": {
            "tags": []
          },
          "execution_count": 21
        }
      ]
    },
    {
      "cell_type": "markdown",
      "metadata": {
        "id": "GqqEtILuYaj-"
      },
      "source": [
        "## Fitness function"
      ]
    },
    {
      "cell_type": "code",
      "metadata": {
        "id": "fH1uo4sm5dyK"
      },
      "source": [
        "def fitness_function(agenda):\n",
        "  id_voo = -1\n",
        "  total_preco = 0\n",
        "  for i in range(len(agenda) // 2):\n",
        "    origem = pessoas[i][1]\n",
        "    id_voo += 1\n",
        "    ida = voos[(origem, destino)][agenda[id_voo]]\n",
        "    total_preco += ida[2]\n",
        "    id_voo += 1\n",
        "    volta = voos[(destino, origem)][agenda[id_voo]]\n",
        "    total_preco += volta[2]\n",
        "  \n",
        "  return total_preco"
      ],
      "execution_count": 22,
      "outputs": []
    },
    {
      "cell_type": "code",
      "metadata": {
        "id": "OSaGBRB25_Xk",
        "colab": {
          "base_uri": "https://localhost:8080/"
        },
        "outputId": "8f2d2027-0fa1-414f-d78c-2dc71497336c"
      },
      "source": [
        "agenda = [1,7, 3,1, 1,1, 6,3, 2,4, 5,3]\n",
        "fitness_function(agenda)"
      ],
      "execution_count": 23,
      "outputs": [
        {
          "output_type": "execute_result",
          "data": {
            "text/plain": [
              "2619"
            ]
          },
          "metadata": {
            "tags": []
          },
          "execution_count": 23
        }
      ]
    },
    {
      "cell_type": "code",
      "metadata": {
        "id": "Bqmj2a3A8lSA",
        "colab": {
          "base_uri": "https://localhost:8080/"
        },
        "outputId": "a6483934-bce4-4435-a6a0-88e198319f0d"
      },
      "source": [
        "!pip install mlrose"
      ],
      "execution_count": 24,
      "outputs": [
        {
          "output_type": "stream",
          "text": [
            "Requirement already satisfied: mlrose in /usr/local/lib/python3.7/dist-packages (1.3.0)\n",
            "Requirement already satisfied: sklearn in /usr/local/lib/python3.7/dist-packages (from mlrose) (0.0)\n",
            "Requirement already satisfied: scipy in /usr/local/lib/python3.7/dist-packages (from mlrose) (1.4.1)\n",
            "Requirement already satisfied: numpy in /usr/local/lib/python3.7/dist-packages (from mlrose) (1.19.5)\n",
            "Requirement already satisfied: scikit-learn in /usr/local/lib/python3.7/dist-packages (from sklearn->mlrose) (0.22.2.post1)\n",
            "Requirement already satisfied: joblib>=0.11 in /usr/local/lib/python3.7/dist-packages (from scikit-learn->sklearn->mlrose) (1.0.1)\n"
          ],
          "name": "stdout"
        }
      ]
    },
    {
      "cell_type": "code",
      "metadata": {
        "id": "hleIBozb8toR",
        "colab": {
          "base_uri": "https://localhost:8080/"
        },
        "outputId": "60166607-9660-4b7b-9260-865f685f44ea"
      },
      "source": [
        "import mlrose"
      ],
      "execution_count": 25,
      "outputs": [
        {
          "output_type": "stream",
          "text": [
            "/usr/local/lib/python3.7/dist-packages/sklearn/externals/six.py:31: FutureWarning: The module is deprecated in version 0.21 and will be removed in version 0.23 since we've dropped support for Python 2.7. Please rely on the official version of six (https://pypi.org/project/six/).\n",
            "  \"(https://pypi.org/project/six/).\", FutureWarning)\n"
          ],
          "name": "stderr"
        }
      ]
    },
    {
      "cell_type": "code",
      "metadata": {
        "id": "sgqWculR8yqo"
      },
      "source": [
        "fitness = mlrose.CustomFitness(fitness_function) #retorna o preco dos voos (temos uma fucao personalizada de fitness)"
      ],
      "execution_count": 26,
      "outputs": []
    },
    {
      "cell_type": "code",
      "metadata": {
        "id": "HWQKJU3w9DGr"
      },
      "source": [
        "problema = mlrose.DiscreteOpt(length=12, fitness_fn=fitness, \n",
        "                              maximize = False, max_val = 10) #(length = tamanho da solucao (12 voos),objeto que criamos acima\n",
        "                              #maximize = True -> maximiza o valor retornado, maior preco\n",
        "                              #maximize = False -> minimiza o valor retornado, menor preco\n",
        "                              #max_val = o algoritmo precisa gerar uma lista com 12 posicoes e o valor maximo é 10\n",
        "                              #max_val é a quantidade de voos que temos\n",
        "                              #Algoritmo gera uma lista com 12 posicoes e em cada posicao pode variar entre 0 e 9 (10 numeros)"
      ],
      "execution_count": 27,
      "outputs": []
    },
    {
      "cell_type": "markdown",
      "metadata": {
        "id": "pMo4HJcsnGVT"
      },
      "source": [
        "## Hill climb\n",
        "subida da encosta (maximos e mínimos global e local)"
      ]
    },
    {
      "cell_type": "code",
      "metadata": {
        "id": "wrWp0PbxFY2a",
        "colab": {
          "base_uri": "https://localhost:8080/"
        },
        "outputId": "159d70b2-a050-402c-939c-c26fe5189716"
      },
      "source": [
        "melhor_solucao, melhor_custo = mlrose.hill_climb(problema, random_state = 1) #random_state -> muda a semente geradora aleatória \n",
        "melhor_solucao, melhor_custo"
      ],
      "execution_count": 28,
      "outputs": [
        {
          "output_type": "execute_result",
          "data": {
            "text/plain": [
              "(array([2, 6, 5, 7, 8, 1, 3, 6, 0, 2, 9, 1]), 1566.0)"
            ]
          },
          "metadata": {
            "tags": []
          },
          "execution_count": 28
        }
      ]
    },
    {
      "cell_type": "code",
      "metadata": {
        "id": "cFm4OyLPGXgp",
        "colab": {
          "base_uri": "https://localhost:8080/"
        },
        "outputId": "0db742ca-9f76-478a-d9c5-53fbe297d386"
      },
      "source": [
        "imprimir_voos(melhor_solucao)"
      ],
      "execution_count": 29,
      "outputs": [
        {
          "output_type": "stream",
          "text": [
            "Lisboa    LIS    9:15-12:03  R$  99  15:07-17:21  R$ 129\n",
            "Madrid    MAD   14:22-16:32  R$ 126  17:06-20:00  R$  95\n",
            "Paris     CDG   18:23-21:35  R$ 134   8:23-11:07  R$ 143\n",
            "Dublin    DUB   11:16-13:29  R$  83  15:25-16:58  R$  62\n",
            "Bruxelas  BRU    6:12-10:22  R$ 230   9:49-13:51  R$ 229\n",
            "Londres   LHR   20:30-23:11  R$ 114   8:19-11:16  R$ 122\n",
            "Preço total: R$ 1566\n"
          ],
          "name": "stdout"
        }
      ]
    },
    {
      "cell_type": "code",
      "metadata": {
        "id": "JbDgA_MuGgLU",
        "colab": {
          "base_uri": "https://localhost:8080/"
        },
        "outputId": "6470bbbd-73c1-4832-dd7c-cb8319c66065"
      },
      "source": [
        "voos[('BRU', 'FCO')]"
      ],
      "execution_count": 30,
      "outputs": [
        {
          "output_type": "execute_result",
          "data": {
            "text/plain": [
              "[('6:12', '10:22', 230),\n",
              " ('7:53', '11:37', 433),\n",
              " ('9:08', '12:12', 364),\n",
              " ('10:30', '14:57', 290),\n",
              " ('12:19', '15:25', 342),\n",
              " ('13:54', '18:02', 294),\n",
              " ('15:44', '18:55', 382),\n",
              " ('16:52', '20:48', 448),\n",
              " ('18:26', '21:29', 464),\n",
              " ('20:07', '23:27', 473)]"
            ]
          },
          "metadata": {
            "tags": []
          },
          "execution_count": 30
        }
      ]
    },
    {
      "cell_type": "markdown",
      "metadata": {
        "id": "jAcriFqDa1Cn"
      },
      "source": [
        "## Simulated annealing"
      ]
    },
    {
      "cell_type": "code",
      "metadata": {
        "colab": {
          "base_uri": "https://localhost:8080/"
        },
        "id": "aWoBHITMa1Cs",
        "outputId": "79ae194d-563b-49f7-cfd7-d43d43465f2c"
      },
      "source": [
        "melhor_solucao, melhor_custo = mlrose.simulated_annealing(problema, \n",
        "                                                          schedule=mlrose.decay.GeomDecay(init_temp=10000),\n",
        "                                                          random_state=1)\n",
        "melhor_solucao, melhor_custo"
      ],
      "execution_count": 31,
      "outputs": [
        {
          "output_type": "execute_result",
          "data": {
            "text/plain": [
              "(array([6, 7, 4, 9, 8, 4, 1, 0, 0, 3, 5, 3]), 1820.0)"
            ]
          },
          "metadata": {
            "tags": []
          },
          "execution_count": 31
        }
      ]
    },
    {
      "cell_type": "code",
      "metadata": {
        "colab": {
          "base_uri": "https://localhost:8080/"
        },
        "id": "MerqJvQca1Cu",
        "outputId": "cc0ab2b1-5ee9-4c00-da99-dbd11a09f650"
      },
      "source": [
        "imprimir_voos(melhor_solucao)"
      ],
      "execution_count": 32,
      "outputs": [
        {
          "output_type": "stream",
          "text": [
            "Lisboa    LIS   15:03-16:42  R$ 135  16:35-18:56  R$ 144\n",
            "Madrid    MAD   12:44-14:17  R$ 134  19:32-21:25  R$ 160\n",
            "Paris     CDG   18:23-21:35  R$ 134  12:37-15:05  R$ 170\n",
            "Dublin    DUB    8:04-10:11  R$  95   6:39- 8:09  R$  86\n",
            "Bruxelas  BRU    6:12-10:22  R$ 230  10:51-14:16  R$ 256\n",
            "Londres   LHR   13:40-15:38  R$ 137  10:32-13:16  R$ 139\n",
            "Preço total: R$ 1820\n"
          ],
          "name": "stdout"
        }
      ]
    },
    {
      "cell_type": "markdown",
      "metadata": {
        "id": "Zt7GvTvc1dnQ"
      },
      "source": [
        "## Algoritmo genético"
      ]
    },
    {
      "cell_type": "code",
      "metadata": {
        "id": "tYlwF-n2XtMm",
        "colab": {
          "base_uri": "https://localhost:8080/"
        },
        "outputId": "92d0f999-a818-4ba5-d212-f2c1885086d5"
      },
      "source": [
        "melhor_solucao, melhor_custo = mlrose.genetic_alg(problema, pop_size=500, mutation_prob=0.2,\n",
        "                                                  random_state=1)\n",
        "#individuos -> cada solucao é um individo\n",
        "#Cromossomo -> conjunto de todos os voos [1,2,4,5,8,9,5,6,2]\n",
        "#Gene -> cada voo individual da solucao\n",
        "#avaliar populucao -> aplicar a fitness function\n",
        "melhor_solucao, melhor_custo"
      ],
      "execution_count": 33,
      "outputs": [
        {
          "output_type": "execute_result",
          "data": {
            "text/plain": [
              "(array([7, 3, 1, 2, 9, 0, 3, 8, 0, 3, 4, 1]), 1956.0)"
            ]
          },
          "metadata": {
            "tags": []
          },
          "execution_count": 33
        }
      ]
    },
    {
      "cell_type": "code",
      "metadata": {
        "id": "7Vfden9jYn1j",
        "colab": {
          "base_uri": "https://localhost:8080/"
        },
        "outputId": "2a598179-14da-4ff0-e540-1de498106b18"
      },
      "source": [
        "imprimir_voos(melhor_solucao)"
      ],
      "execution_count": 34,
      "outputs": [
        {
          "output_type": "stream",
          "text": [
            "Lisboa    LIS   16:51-19:09  R$ 147  11:07-13:24  R$ 171\n",
            "Madrid    MAD    8:25-10:34  R$ 157   9:11-10:42  R$ 172\n",
            "Paris     CDG   19:53-22:21  R$ 173   6:33- 9:14  R$ 172\n",
            "Dublin    DUB   11:16-13:29  R$  83  18:24-20:49  R$ 124\n",
            "Bruxelas  BRU    6:12-10:22  R$ 230  10:51-14:16  R$ 256\n",
            "Londres   LHR   12:08-14:59  R$ 149   8:19-11:16  R$ 122\n",
            "Preço total: R$ 1956\n"
          ],
          "name": "stdout"
        }
      ]
    },
    {
      "cell_type": "markdown",
      "metadata": {
        "id": "mgHnSkdacDEp"
      },
      "source": [
        "## Simulated annealing OTIMIZADA BY IGOR\n",
        "Tempera simulado -> processo de aquecer metal e deixá-lo esfriar lentamente"
      ]
    },
    {
      "cell_type": "code",
      "metadata": {
        "id": "TM9bez7II2V3",
        "colab": {
          "base_uri": "https://localhost:8080/"
        },
        "outputId": "869187aa-bc96-4c00-fe3e-becf37512cc3"
      },
      "source": [
        "#REALIZEI ALGUMAS OTIMIZAÇÕES\n",
        "teste_igor_custo = [] #adicionei uma lista de teste\n",
        "teste_igor_solucao = [] #adicionei uma lista de teste\n",
        "for i in range(700): #CRIEI ESSE LAÇO PARA ALTERAR O VALOR DE random_state\n",
        "  melhor_solucao, melhor_custo = mlrose.simulated_annealing(problema, \n",
        "                                                          schedule=mlrose.decay.GeomDecay(init_temp=10000),\n",
        "                                                          random_state=i)\n",
        "#começa com uma solução aleatória, sem o random_state chega em valores melhores\n",
        "#decay.GeomDecay ->decaimento Geometrico\n",
        "#decay.ArithDecay -> decaimento Aritimético\n",
        "#decay.ExpDecay -> Decaimento Exponencial\n",
        "#init_temp = temperatura inicial -> quanto maior, maior o numero de interacoes\n",
        "  teste_igor_custo.append(melhor_custo) # A LISTA CRIADA VAI RECEBER O MELHOR CUSTO DE CADA INTERAÇÃO DO FOR\n",
        "  teste_igor_solucao.append(melhor_solucao)\n",
        "melhor_valor_igor = min(teste_igor_custo) #EXTRAIO O MENOR VALOR DA LISTA\n",
        "melhor_random_state = teste_igor_custo.index(melhor_valor_igor)\n",
        "melhor_solucao_igor = teste_igor_solucao[melhor_random_state]\n",
        "print(melhor_random_state,melhor_valor_igor,melhor_solucao_igor )"
      ],
      "execution_count": 35,
      "outputs": [
        {
          "output_type": "stream",
          "text": [
            "173 1579.0 [2 6 5 7 8 6 0 6 0 2 9 1]\n"
          ],
          "name": "stdout"
        }
      ]
    },
    {
      "cell_type": "code",
      "metadata": {
        "id": "zfhQV3U_K0nH",
        "colab": {
          "base_uri": "https://localhost:8080/"
        },
        "outputId": "253787a7-8fb8-41bd-dd2e-08cdbe1a2b0c"
      },
      "source": [
        "imprimir_voos(melhor_solucao_igor)"
      ],
      "execution_count": 36,
      "outputs": [
        {
          "output_type": "stream",
          "text": [
            "Lisboa    LIS    9:15-12:03  R$  99  15:07-17:21  R$ 129\n",
            "Madrid    MAD   14:22-16:32  R$ 126  17:06-20:00  R$  95\n",
            "Paris     CDG   18:23-21:35  R$ 134  15:23-18:49  R$ 150\n",
            "Dublin    DUB    6:17- 8:26  R$  89  15:25-16:58  R$  62\n",
            "Bruxelas  BRU    6:12-10:22  R$ 230   9:49-13:51  R$ 229\n",
            "Londres   LHR   20:30-23:11  R$ 114   8:19-11:16  R$ 122\n",
            "Preço total: R$ 1579\n"
          ],
          "name": "stdout"
        }
      ]
    }
  ]
}