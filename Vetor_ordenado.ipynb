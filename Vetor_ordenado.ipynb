{
  "nbformat": 4,
  "nbformat_minor": 0,
  "metadata": {
    "colab": {
      "name": "Cópia de Vetor ordenado.ipynb",
      "provenance": [],
      "collapsed_sections": [],
      "include_colab_link": true
    },
    "kernelspec": {
      "name": "python3",
      "display_name": "Python 3"
    }
  },
  "cells": [
    {
      "cell_type": "markdown",
      "metadata": {
        "id": "view-in-github",
        "colab_type": "text"
      },
      "source": [
        "<a href=\"https://colab.research.google.com/github/igoradriano/Inteligencia-Artificial/blob/main/Vetor_ordenado.ipynb\" target=\"_parent\"><img src=\"https://colab.research.google.com/assets/colab-badge.svg\" alt=\"Open In Colab\"/></a>"
      ]
    },
    {
      "cell_type": "markdown",
      "metadata": {
        "id": "3L3hMZxPloS9"
      },
      "source": [
        "# Vetor ordenado"
      ]
    },
    {
      "cell_type": "code",
      "metadata": {
        "id": "ilKOzbksUosx"
      },
      "source": [
        "import numpy as np"
      ],
      "execution_count": 1,
      "outputs": []
    },
    {
      "cell_type": "code",
      "metadata": {
        "id": "EI9-ginDUr7z"
      },
      "source": [
        "class VetorOrdenado:\n",
        "  \n",
        "  def __init__(self, capacidade):\n",
        "    self.capacidade = capacidade  #parâmetro da classe construtora é passado como valor do atributo da classe\n",
        "    self.ultima_posicao = -1    #vetor vazio logo no inicio recebe ultima aposição = -1\n",
        "    self.valores = np.empty(self.capacidade, dtype=int) #A função empty () é usada para criar um novo array numpy vazio com a capacidade que passaremos, e tipo de dados inteiro.\n",
        "    print(self.valores)\n",
        "  # O(n) --> Método para mostrar os dados\n",
        "  def imprime(self):\n",
        "    if self.ultima_posicao == -1:\n",
        "      print('O vetor está vazio')\n",
        "    else:\n",
        "      for i in range(self.ultima_posicao + 1):  #para o primeiro caso será será -1(array vazio) + 1(primeiro termo) = 0 (tamanho do array)\n",
        "        print(i, ' - ', self.valores[i])  #dessa forma, só iremos imprimir os próximos termos do array através do rang(ultima_posicao)\n",
        "\n",
        "  # O(n)\n",
        "  def insere(self, valor):\n",
        "    if self.ultima_posicao == self.capacidade - 1:\n",
        "      print('Capacidade máxima atingida')\n",
        "      return\n",
        "\n",
        "    posicao = 0\n",
        "    for i in range(self.ultima_posicao + 1):\n",
        "      posicao = i\n",
        "      if self.valores[i] > valor:\n",
        "        break\n",
        "      if i == self.ultima_posicao:\n",
        "        posicao = i + 1\n",
        "\n",
        "    x = self.ultima_posicao\n",
        "    while x >= posicao:\n",
        "      self.valores[x + 1] = self.valores[x]\n",
        "      x -= 1\n",
        "\n",
        "    self.valores[posicao] = valor\n",
        "    self.ultima_posicao += 1\n",
        "\n",
        "  # O(n)\n",
        "  def pesquisa_linear(self, valor):\n",
        "    for i in range(self.ultima_posicao + 1):\n",
        "      if self.valores[i] > valor:\n",
        "        return -1\n",
        "      if self.valores[i] == valor:\n",
        "        return i\n",
        "      if i == self.ultima_posicao:\n",
        "        return -1\n",
        "\n",
        "  # O(log n)\n",
        "  def pesquisa_binaria(self, valor):\n",
        "    limite_inferior = 0\n",
        "    limite_superior = self.ultima_posicao\n",
        "\n",
        "    while True:\n",
        "      posicao_atual = int((limite_inferior + limite_superior) / 2)\n",
        "      # Se achou na primeira tentativa\n",
        "      if self.valores[posicao_atual] == valor:\n",
        "        return posicao_atual\n",
        "      # Se não achou\n",
        "      elif limite_inferior > limite_superior:\n",
        "        return -1\n",
        "      # Divide os limites\n",
        "      else:\n",
        "        # Limite inferior\n",
        "        if self.valores[posicao_atual] < valor:\n",
        "          limite_inferior = posicao_atual + 1\n",
        "        # Limite superior\n",
        "        else:\n",
        "          limite_superior = posicao_atual - 1\n",
        "\n",
        "  # O(n)\n",
        "  def excluir(self, valor):\n",
        "    posicao = self.pesquisar(valor)\n",
        "    if posicao == -1:\n",
        "      return -1\n",
        "    else:\n",
        "      for i in range(posicao, self.ultima_posicao):\n",
        "        self.valores[i] = self.valores[i + 1]\n",
        "      \n",
        "      self.ultima_posicao -= 1"
      ],
      "execution_count": 2,
      "outputs": []
    },
    {
      "cell_type": "code",
      "metadata": {
        "id": "stsNs_K8nn4r",
        "colab": {
          "base_uri": "https://localhost:8080/",
          "height": 55
        },
        "outputId": "0cceb095-520f-43ac-b7d6-a75bfbfd6c03"
      },
      "source": [
        "vetor = VetorOrdenado(10)\n",
        "vetor.imprime()"
      ],
      "execution_count": null,
      "outputs": [
        {
          "output_type": "stream",
          "text": [
            "O vetor está vazio\n"
          ],
          "name": "stdout"
        }
      ]
    },
    {
      "cell_type": "code",
      "metadata": {
        "id": "6OQR86hMnr74",
        "colab": {
          "base_uri": "https://localhost:8080/",
          "height": 55
        },
        "outputId": "24a67306-41ea-43cb-cb91-c2325a9eccef"
      },
      "source": [
        "vetor.insere(6)\n",
        "vetor.imprime()"
      ],
      "execution_count": null,
      "outputs": [
        {
          "output_type": "stream",
          "text": [
            "0  -  6\n"
          ],
          "name": "stdout"
        }
      ]
    },
    {
      "cell_type": "code",
      "metadata": {
        "id": "2SD9iJjrnzpB",
        "colab": {
          "base_uri": "https://localhost:8080/",
          "height": 72
        },
        "outputId": "90c4d2d2-0890-4c55-81a6-fa6f285fbf6e"
      },
      "source": [
        "vetor.insere(4)\n",
        "vetor.imprime()"
      ],
      "execution_count": null,
      "outputs": [
        {
          "output_type": "stream",
          "text": [
            "0  -  4\n",
            "1  -  6\n"
          ],
          "name": "stdout"
        }
      ]
    },
    {
      "cell_type": "code",
      "metadata": {
        "id": "UZiJuluyn4iq",
        "colab": {
          "base_uri": "https://localhost:8080/",
          "height": 90
        },
        "outputId": "a1139beb-1972-4002-8271-423437eb14f0"
      },
      "source": [
        "vetor.insere(3)\n",
        "vetor.imprime()"
      ],
      "execution_count": null,
      "outputs": [
        {
          "output_type": "stream",
          "text": [
            "0  -  3\n",
            "1  -  4\n",
            "2  -  6\n"
          ],
          "name": "stdout"
        }
      ]
    },
    {
      "cell_type": "code",
      "metadata": {
        "id": "-EtyqP3ln--6",
        "colab": {
          "base_uri": "https://localhost:8080/",
          "height": 108
        },
        "outputId": "f144630e-aefb-4e49-f7d3-b216acb9d6ad"
      },
      "source": [
        "vetor.insere(5)\n",
        "vetor.imprime()"
      ],
      "execution_count": null,
      "outputs": [
        {
          "output_type": "stream",
          "text": [
            "0  -  3\n",
            "1  -  4\n",
            "2  -  5\n",
            "3  -  6\n"
          ],
          "name": "stdout"
        }
      ]
    },
    {
      "cell_type": "code",
      "metadata": {
        "id": "Ij44GQWRoE8-",
        "colab": {
          "base_uri": "https://localhost:8080/",
          "height": 125
        },
        "outputId": "1afbfa5b-7a32-4695-db4b-a95890504ba3"
      },
      "source": [
        "vetor.insere(1)\n",
        "vetor.imprime()"
      ],
      "execution_count": null,
      "outputs": [
        {
          "output_type": "stream",
          "text": [
            "0  -  1\n",
            "1  -  3\n",
            "2  -  4\n",
            "3  -  5\n",
            "4  -  6\n"
          ],
          "name": "stdout"
        }
      ]
    },
    {
      "cell_type": "code",
      "metadata": {
        "id": "PHQuMp8aoKX3",
        "colab": {
          "base_uri": "https://localhost:8080/",
          "height": 143
        },
        "outputId": "70c5c040-7c42-4fa8-8cba-92793d0e7296"
      },
      "source": [
        "vetor.insere(8)\n",
        "vetor.imprime()"
      ],
      "execution_count": null,
      "outputs": [
        {
          "output_type": "stream",
          "text": [
            "0  -  1\n",
            "1  -  3\n",
            "2  -  4\n",
            "3  -  5\n",
            "4  -  6\n",
            "5  -  8\n"
          ],
          "name": "stdout"
        }
      ]
    },
    {
      "cell_type": "code",
      "metadata": {
        "id": "u4RWmfsgpoUu",
        "colab": {
          "base_uri": "https://localhost:8080/",
          "height": 55
        },
        "outputId": "4d6d584e-604e-41ce-a7d2-5f524ca5d9e2"
      },
      "source": [
        "vetor.pesquisar(3)"
      ],
      "execution_count": null,
      "outputs": [
        {
          "output_type": "execute_result",
          "data": {
            "text/plain": [
              "1"
            ]
          },
          "metadata": {
            "tags": []
          },
          "execution_count": 44
        }
      ]
    },
    {
      "cell_type": "code",
      "metadata": {
        "id": "JN_G7sRHp6ZD",
        "colab": {
          "base_uri": "https://localhost:8080/",
          "height": 55
        },
        "outputId": "871261c9-5fe2-4b78-8807-938fd6c064be"
      },
      "source": [
        "vetor.pesquisar(2)"
      ],
      "execution_count": null,
      "outputs": [
        {
          "output_type": "execute_result",
          "data": {
            "text/plain": [
              "-1"
            ]
          },
          "metadata": {
            "tags": []
          },
          "execution_count": 45
        }
      ]
    },
    {
      "cell_type": "code",
      "metadata": {
        "id": "g7Qy3DOpqIEQ",
        "colab": {
          "base_uri": "https://localhost:8080/",
          "height": 55
        },
        "outputId": "af76efdd-e397-410d-cf6b-3845204659c2"
      },
      "source": [
        "vetor.pesquisar(9)"
      ],
      "execution_count": null,
      "outputs": [
        {
          "output_type": "execute_result",
          "data": {
            "text/plain": [
              "-1"
            ]
          },
          "metadata": {
            "tags": []
          },
          "execution_count": 46
        }
      ]
    },
    {
      "cell_type": "code",
      "metadata": {
        "id": "TIyNYvRprA6i",
        "colab": {
          "base_uri": "https://localhost:8080/",
          "height": 143
        },
        "outputId": "773c53b3-5ea0-4c4e-ef1f-b54bfa3266b9"
      },
      "source": [
        "vetor.imprime()"
      ],
      "execution_count": null,
      "outputs": [
        {
          "output_type": "stream",
          "text": [
            "0  -  1\n",
            "1  -  3\n",
            "2  -  4\n",
            "3  -  5\n",
            "4  -  6\n",
            "5  -  8\n"
          ],
          "name": "stdout"
        }
      ]
    },
    {
      "cell_type": "code",
      "metadata": {
        "id": "890RvJJZrC-N",
        "colab": {
          "base_uri": "https://localhost:8080/",
          "height": 125
        },
        "outputId": "0c66d3f7-c9bd-45cd-a49b-c7d2df6283d1"
      },
      "source": [
        "vetor.excluir(5)\n",
        "vetor.imprime()"
      ],
      "execution_count": null,
      "outputs": [
        {
          "output_type": "stream",
          "text": [
            "0  -  1\n",
            "1  -  3\n",
            "2  -  4\n",
            "3  -  6\n",
            "4  -  8\n"
          ],
          "name": "stdout"
        }
      ]
    },
    {
      "cell_type": "code",
      "metadata": {
        "id": "tJZZj3dcrINv",
        "colab": {
          "base_uri": "https://localhost:8080/",
          "height": 108
        },
        "outputId": "3e88b820-64a3-4b05-8c4e-7380a1dbb235"
      },
      "source": [
        "vetor.excluir(1)\n",
        "vetor.imprime()"
      ],
      "execution_count": null,
      "outputs": [
        {
          "output_type": "stream",
          "text": [
            "0  -  3\n",
            "1  -  4\n",
            "2  -  6\n",
            "3  -  8\n"
          ],
          "name": "stdout"
        }
      ]
    },
    {
      "cell_type": "code",
      "metadata": {
        "id": "XIshZYD7rOrC",
        "colab": {
          "base_uri": "https://localhost:8080/",
          "height": 90
        },
        "outputId": "ec06ca32-89b0-44aa-b84e-6989fac80672"
      },
      "source": [
        "vetor.excluir(8)\n",
        "vetor.imprime()"
      ],
      "execution_count": null,
      "outputs": [
        {
          "output_type": "stream",
          "text": [
            "0  -  3\n",
            "1  -  4\n",
            "2  -  6\n"
          ],
          "name": "stdout"
        }
      ]
    },
    {
      "cell_type": "code",
      "metadata": {
        "id": "yK-W-NZ_rTBv",
        "colab": {
          "base_uri": "https://localhost:8080/",
          "height": 55
        },
        "outputId": "cdec6ee8-35ca-4e7a-9965-ad83ce6b29ac"
      },
      "source": [
        "vetor.excluir(9)"
      ],
      "execution_count": null,
      "outputs": [
        {
          "output_type": "execute_result",
          "data": {
            "text/plain": [
              "-1"
            ]
          },
          "metadata": {
            "tags": []
          },
          "execution_count": 60
        }
      ]
    },
    {
      "cell_type": "code",
      "metadata": {
        "id": "VhiG4jtDZmsl",
        "colab": {
          "base_uri": "https://localhost:8080/",
          "height": 196
        },
        "outputId": "c856265f-2283-45d3-d8d7-d3342e413940"
      },
      "source": [
        "vetor = VetorOrdenado(10)\n",
        "vetor.insere(8)\n",
        "vetor.insere(9)\n",
        "vetor.insere(4)\n",
        "vetor.insere(1)\n",
        "vetor.insere(5)\n",
        "vetor.insere(7)\n",
        "vetor.insere(11)\n",
        "vetor.insere(13)\n",
        "vetor.insere(2)\n",
        "vetor.imprime()"
      ],
      "execution_count": null,
      "outputs": [
        {
          "output_type": "stream",
          "text": [
            "0  -  1\n",
            "1  -  2\n",
            "2  -  4\n",
            "3  -  5\n",
            "4  -  7\n",
            "5  -  8\n",
            "6  -  9\n",
            "7  -  11\n",
            "8  -  13\n"
          ],
          "name": "stdout"
        }
      ]
    },
    {
      "cell_type": "code",
      "metadata": {
        "id": "ThZslAO2Z01A",
        "colab": {
          "base_uri": "https://localhost:8080/",
          "height": 55
        },
        "outputId": "51714b6c-3594-481e-c72c-9bb842883ebe"
      },
      "source": [
        "vetor.pesquisa_binaria(7)"
      ],
      "execution_count": null,
      "outputs": [
        {
          "output_type": "execute_result",
          "data": {
            "text/plain": [
              "4"
            ]
          },
          "metadata": {
            "tags": []
          },
          "execution_count": 65
        }
      ]
    },
    {
      "cell_type": "code",
      "metadata": {
        "id": "H7O2aeQCZ5dU",
        "colab": {
          "base_uri": "https://localhost:8080/",
          "height": 55
        },
        "outputId": "16f5cc0d-babf-487f-de82-72def75b2f52"
      },
      "source": [
        "vetor.pesquisa_binaria(5)"
      ],
      "execution_count": null,
      "outputs": [
        {
          "output_type": "execute_result",
          "data": {
            "text/plain": [
              "3"
            ]
          },
          "metadata": {
            "tags": []
          },
          "execution_count": 66
        }
      ]
    },
    {
      "cell_type": "code",
      "metadata": {
        "id": "v-fqvDvkZ-ln",
        "colab": {
          "base_uri": "https://localhost:8080/",
          "height": 55
        },
        "outputId": "2622fda2-0ffe-4078-ef71-00a4347d0bff"
      },
      "source": [
        "vetor.pesquisa_binaria(13)"
      ],
      "execution_count": null,
      "outputs": [
        {
          "output_type": "execute_result",
          "data": {
            "text/plain": [
              "8"
            ]
          },
          "metadata": {
            "tags": []
          },
          "execution_count": 67
        }
      ]
    },
    {
      "cell_type": "code",
      "metadata": {
        "id": "0weYsscRaBeK",
        "colab": {
          "base_uri": "https://localhost:8080/",
          "height": 55
        },
        "outputId": "0f54a804-7847-4eb8-d43d-27553e2de457"
      },
      "source": [
        "vetor.pesquisa_binaria(20)"
      ],
      "execution_count": null,
      "outputs": [
        {
          "output_type": "execute_result",
          "data": {
            "text/plain": [
              "-1"
            ]
          },
          "metadata": {
            "tags": []
          },
          "execution_count": 68
        }
      ]
    },
    {
      "cell_type": "code",
      "metadata": {
        "id": "hva6Dr-pgx-C"
      },
      "source": [
        "#>>> np.empty(2)\n",
        "#array([  6.95033087e-310,   1.69970835e-316])\n",
        "#>>> np.empty(32)\n",
        "#array([  6.95033087e-310,   1.65350412e-316,   6.95032869e-310,\n",
        "   #      6.95032869e-310,   6.95033051e-310,   6.95033014e-310,\n",
        "   #      6.95033165e-310,   6.95033167e-310,   6.95033163e-310,\n",
        "   #      6.95032955e-310,   6.95033162e-310,   6.95033166e-310,\n",
        "   #      6.95033160e-310,   6.95033163e-310,   6.95033162e-310,\n",
        "   #      6.95033167e-310,   6.95033167e-310,   6.95033167e-310,\n",
        "   #      6.95033167e-310,   6.95033158e-310,   6.95033160e-310,\n",
        "   #      6.95033164e-310,   6.95033162e-310,   6.95033051e-310,\n",
        "   #     6.95033166e-310,   6.95033161e-310,   2.97403466e+289,\n",
        "   #      7.55774284e+091,   1.31611495e+294])\n",
        "#>>> np.empty([2, 2])\n",
        "#array([[7.74860419e-304, 8.32155212e-317],\n",
        "   #   [0.00000000e+000, 0.00000000e+000]])\n",
        "#>>> np.empty([2, 3])\n",
        "#array([[  6.95033087e-310,   1.68240973e-316,   6.95032825e-310],\n",
        "   #     [  6.95032825e-310,   6.95032825e-310,   6.95032825e-310]])"
      ],
      "execution_count": null,
      "outputs": []
    }
  ]
}