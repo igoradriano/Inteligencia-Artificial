{
  "nbformat": 4,
  "nbformat_minor": 0,
  "metadata": {
    "colab": {
      "name": "Cópia de Grafo Busca Gulosa.ipynb",
      "provenance": [],
      "collapsed_sections": [],
      "include_colab_link": true
    },
    "kernelspec": {
      "name": "python3",
      "display_name": "Python 3"
    }
  },
  "cells": [
    {
      "cell_type": "markdown",
      "metadata": {
        "id": "view-in-github",
        "colab_type": "text"
      },
      "source": [
        "<a href=\"https://colab.research.google.com/github/igoradriano/Inteligencia-Artificial/blob/main/Busca_Gulosa_%2B_Vetor_Ordenado-MAPA.ipynb\" target=\"_parent\"><img src=\"https://colab.research.google.com/assets/colab-badge.svg\" alt=\"Open In Colab\"/></a>"
      ]
    },
    {
      "cell_type": "markdown",
      "metadata": {
        "id": "r2ZZwVzmSD9w"
      },
      "source": [
        "# Grafo - Busca gulosa\n",
        "A Heurística utilizada para esse problema com o método de busca gulosa foi utilizar a menor distancia em linha reta entre o ponto inicial e o ponto final. Não considerados a distancia real."
      ]
    },
    {
      "cell_type": "markdown",
      "metadata": {
        "id": "PgOWgXWsNWEr"
      },
      "source": [
        "## Grafo"
      ]
    },
    {
      "cell_type": "code",
      "metadata": {
        "id": "37JdH3P_R-pL"
      },
      "source": [
        "class Vertice:\n",
        "\n",
        "  def __init__(self, rotulo, distancia_objetivo):\n",
        "    self.rotulo = rotulo\n",
        "    self.visitado = False\n",
        "    self.distancia_objetivo = distancia_objetivo\n",
        "    self.adjacentes = [] #Array que conterá todas as cidades adjacentes a cada cidade objeto tratada\n",
        "\n",
        "  def adiciona_adjacente(self, adjacente):  # Método da classe Vertice para adicionar cidades adjacentes a lista\n",
        "    self.adjacentes.append(adjacente)\n",
        "\n",
        "  def mostra_adjacentes(self):  # Método da classe Verticce para mostrar as cidades adjacentes de cada Vertice\n",
        "    for i in self.adjacentes:\n",
        "      print(i.vertice.rotulo, i.custo) # i -> representa cada objeto presente dentro da lista adjacentes, vertice.rotulo é para acessar o rótulo de cada objeto presente na lista, uma vez que eles também serao do tipo vertice"
      ],
      "execution_count": 185,
      "outputs": []
    },
    {
      "cell_type": "code",
      "metadata": {
        "id": "Hj4-etBV6eYP"
      },
      "source": [
        "class Adjacente:  #Classe onde passaremos um objeto do tipo vertice (outra cidade) e o custo (distancia)\n",
        "  def __init__(self, vertice, custo):\n",
        "    self.vertice = vertice\n",
        "    self.custo = custo"
      ],
      "execution_count": 186,
      "outputs": []
    },
    {
      "cell_type": "code",
      "metadata": {
        "id": "42axhC-b6r-L"
      },
      "source": [
        "class Grafo: # Esta classe vai unir a Classe Vertice a classe Adjacente\n",
        "  arad = Vertice('Arad', 366) # Cada linha dessas representa um novo objeto do tipo Vertice criado. A distancia  é a distancia da cidade em questao até o destino final em linha reta\n",
        "  zerind = Vertice('Zerind', 374)\n",
        "  oradea = Vertice('Oradea', 380)\n",
        "  sibiu = Vertice('Sibiu', 253)\n",
        "  timisoara = Vertice('Timisoara', 329)\n",
        "  lugoj = Vertice('Lugoj', 244)\n",
        "  mehadia = Vertice('Mehadia', 241)\n",
        "  dobreta = Vertice('Dobreta', 242)\n",
        "  craiova = Vertice('Craiova', 160)\n",
        "  rimnicu = Vertice('Rimnicu', 193)\n",
        "  fagaras = Vertice('Fagaras', 178)\n",
        "  pitesti = Vertice('Pitesti', 98)\n",
        "  bucharest = Vertice('Bucharest', 0)\n",
        "  giurgiu = Vertice('Giurgiu', 77)\n",
        "  urziceni = Vertice(\"Urziceni\", 80)\n",
        "  hirsova = Vertice(\"Hirsova\", 151)\n",
        "  eforie = Vertice(\"Eforie\", 161)\n",
        "  vaslui = Vertice(\"Vaslui\", 199)\n",
        "  lasi = Vertice(\"Lasi\", 226)\n",
        "  neamt = Vertice(\"Neamt\", 234)\n",
        "\n",
        "#Ligações entre as cidades:\n",
        "  arad.adiciona_adjacente(Adjacente(zerind, 75)) # adiciona a lista de ajacentes do Objeto arad do tipo Vertice as cidades adjacentes e a distancia de arad para estas cidades\n",
        "  arad.adiciona_adjacente(Adjacente(sibiu, 140)) # a distancia é de arad para as cidades adjacentes\n",
        "  arad.adiciona_adjacente(Adjacente(timisoara, 118))\n",
        "\n",
        "  zerind.adiciona_adjacente(Adjacente(arad, 75))\n",
        "  zerind.adiciona_adjacente(Adjacente(oradea, 71))\n",
        "\n",
        "  oradea.adiciona_adjacente(Adjacente(zerind, 71))\n",
        "  oradea.adiciona_adjacente(Adjacente(sibiu, 151))\n",
        "\n",
        "  sibiu.adiciona_adjacente(Adjacente(oradea, 151))\n",
        "  sibiu.adiciona_adjacente(Adjacente(arad, 140))\n",
        "  sibiu.adiciona_adjacente(Adjacente(fagaras, 99))\n",
        "  sibiu.adiciona_adjacente(Adjacente(rimnicu, 80))\n",
        "\n",
        "  timisoara.adiciona_adjacente(Adjacente(arad, 118))\n",
        "  timisoara.adiciona_adjacente(Adjacente(lugoj, 111))\n",
        "\n",
        "  lugoj.adiciona_adjacente(Adjacente(timisoara, 111))\n",
        "  lugoj.adiciona_adjacente(Adjacente(mehadia, 70))\n",
        "\n",
        "  mehadia.adiciona_adjacente(Adjacente(lugoj, 70))\n",
        "  mehadia.adiciona_adjacente(Adjacente(dobreta, 75))\n",
        "\n",
        "  dobreta.adiciona_adjacente(Adjacente(mehadia, 75))\n",
        "  dobreta.adiciona_adjacente(Adjacente(craiova, 120))\n",
        "\n",
        "  craiova.adiciona_adjacente(Adjacente(dobreta, 120))\n",
        "  craiova.adiciona_adjacente(Adjacente(pitesti, 138))\n",
        "  craiova.adiciona_adjacente(Adjacente(rimnicu, 146))\n",
        "\n",
        "  rimnicu.adiciona_adjacente(Adjacente(craiova, 146))\n",
        "  rimnicu.adiciona_adjacente(Adjacente(sibiu, 80))\n",
        "  rimnicu.adiciona_adjacente(Adjacente(pitesti, 97))\n",
        "\n",
        "  fagaras.adiciona_adjacente(Adjacente(sibiu, 99))\n",
        "  fagaras.adiciona_adjacente(Adjacente(bucharest, 211))\n",
        "\n",
        "  pitesti.adiciona_adjacente(Adjacente(rimnicu, 97))\n",
        "  pitesti.adiciona_adjacente(Adjacente(craiova, 138))\n",
        "  pitesti.adiciona_adjacente(Adjacente(bucharest, 101))\n",
        "\n",
        "  bucharest.adiciona_adjacente(Adjacente(fagaras, 211))\n",
        "  bucharest.adiciona_adjacente(Adjacente(pitesti, 101))\n",
        "  bucharest.adiciona_adjacente(Adjacente(giurgiu, 90))\n",
        "\n",
        "  urziceni.adiciona_adjacente(Adjacente(bucharest, 85))\n",
        "  urziceni.adiciona_adjacente(Adjacente(hirsova, 98))\n",
        "  urziceni.adiciona_adjacente(Adjacente(vaslui, 142))\n",
        "\n",
        "  hirsova.adiciona_adjacente(Adjacente(urziceni, 98))\n",
        "  hirsova.adiciona_adjacente(Adjacente(eforie, 86))\n",
        "\n",
        "  eforie.adiciona_adjacente(Adjacente(hirsova, 86))\n",
        "\n",
        "  vaslui.adiciona_adjacente(Adjacente(urziceni, 142))\n",
        "  vaslui.adiciona_adjacente(Adjacente(lasi, 92))\n",
        "\n",
        "  lasi.adiciona_adjacente(Adjacente(vaslui, 92))\n",
        "  lasi.adiciona_adjacente(Adjacente(neamt, 87))\n",
        "\n",
        "  neamt.adiciona_adjacente(Adjacente(lasi, 87))\n",
        "\n"
      ],
      "execution_count": 187,
      "outputs": []
    },
    {
      "cell_type": "code",
      "metadata": {
        "id": "qBYjaInI-N4c"
      },
      "source": [
        "grafo = Grafo() #instanciando um objeto do tipo Grafo"
      ],
      "execution_count": 188,
      "outputs": []
    },
    {
      "cell_type": "code",
      "metadata": {
        "id": "nEqjfib1pmTw",
        "colab": {
          "base_uri": "https://localhost:8080/"
        },
        "outputId": "e3c31e93-5c30-48a2-cc52-f88f2adb1a2f"
      },
      "source": [
        "grafo.arad.mostra_adjacentes()\n",
        "print(\"\")\n",
        "grafo.bucharest.mostra_adjacentes()"
      ],
      "execution_count": 189,
      "outputs": [
        {
          "output_type": "stream",
          "text": [
            "Zerind 75\n",
            "Sibiu 140\n",
            "Timisoara 118\n",
            "\n",
            "Fagaras 211\n",
            "Pitesti 101\n",
            "Giurgiu 90\n"
          ],
          "name": "stdout"
        }
      ]
    },
    {
      "cell_type": "markdown",
      "metadata": {
        "id": "aIjre2EzLXB0"
      },
      "source": [
        "## Vetor ordenado\n",
        "Vai apenas ordenar as cidades por ordem de crescente de distancia, do ponto de destino ao ponto final."
      ]
    },
    {
      "cell_type": "code",
      "metadata": {
        "id": "bHnGlmCQLYoH"
      },
      "source": [
        "import numpy as np\n",
        "class VetorOrdenado:\n",
        "  \n",
        "  def __init__(self, capacidade):\n",
        "    self.capacidade = capacidade\n",
        "    self.ultima_posicao = -1\n",
        "    # Mudança no tipo de dados\n",
        "    self.valores = np.empty(self.capacidade, dtype=object) #CRIANDO ARRAY DE TAMANHO E TIPO ESPECIFICADO \n",
        "\n",
        "  # Referência para o vértice e comparação com a distância para o objetivo\n",
        "  def insere(self, vertice):\n",
        "    if self.ultima_posicao == self.capacidade - 1:  # SE A ULTIMA POSICAO DE VALORES FOR IGUAL A CAPACIDADE -1 (POIS CAPACIDADE COMEÇA A CONTAR DE 1)\n",
        "      print('Capacidade máxima atingida')\n",
        "      return\n",
        "    posicao = 0\n",
        "    for i in range(self.ultima_posicao + 1): #PARA TODO ELEMENTO DE 0 ATÉ O O NUMERO DE ELEMENTOS EM VALORES\n",
        "      posicao = i  #ATUALIZA A POSICAO\n",
        "      if self.valores[i].distancia_objetivo > vertice.distancia_objetivo:  #SE A DISTANCIA DO OBJETO PRESENTE EM VALORES FOR MAIOR QUE A DISTANCIA DO OBJETO PASSADO DE ENTRADA NO MÉTODO\n",
        "        break  #PARA PARAR DE ATUALIZAR A POSICAO, POIS É NESSA POSICAÇÃO QUE IREMOS INSERIR O VERTICE\n",
        "      if i == self.ultima_posicao: # SE O ÍNDICE DO LOOP FOR IGUAL A ULTIMA POSICAO DA LISTA\n",
        "        posicao = i + 1  #ADICIONE MAIS UM A POSICAO ONDE SERÁ INSERIDO O VERTICE (NESTE CASO ELE SERÁ INSERIDO NO FINAL DO ARRAY)\n",
        "    #AFASTAMENTO DOS VALORES PARA A PROXIMA POSICAO CASO NECESSÁRIO\n",
        "    x = self.ultima_posicao\n",
        "    while x >= posicao:\n",
        "      self.valores[x + 1] = self.valores[x]\n",
        "      x -= 1\n",
        "    #ADICIONANDO O VALOR A SER INSERIDO NA POSICAO ENCONTRADA \n",
        "    self.valores[posicao] = vertice\n",
        "    self.ultima_posicao += 1  #ATUALIZANDO O VALOR DA ULTIMA POSICAO, JA QUE ADICIONAMOS MAIS UM ELEMENTO\n",
        "#MÉTODO DE IMPRESSÃO DO VETOR   \n",
        "  def imprime(self):\n",
        "    if self.ultima_posicao == -1:\n",
        "      print('O vetor está vazio')\n",
        "    else:\n",
        "      for i in range(self.ultima_posicao + 1):\n",
        "        print(i, ' - ', self.valores[i].rotulo, ' - ', self.valores[i].distancia_objetivo)  "
      ],
      "execution_count": 190,
      "outputs": []
    },
    {
      "cell_type": "code",
      "metadata": {
        "id": "62HkTyWlhU42"
      },
      "source": [
        "vetor = VetorOrdenado(20)\n",
        "vetor.insere(grafo.arad)\n",
        "vetor.insere(grafo.craiova)\n",
        "vetor.insere(grafo.bucharest)\n",
        "vetor.insere(grafo.dobreta)\n",
        "vetor.insere(grafo.zerind)\n",
        "vetor.insere(grafo.oradea)\n",
        "vetor.insere(grafo.sibiu)\n",
        "vetor.insere(grafo.timisoara)\n",
        "vetor.insere(grafo.mehadia)\n",
        "vetor.insere(grafo.rimnicu)\n",
        "vetor.insere(grafo.fagaras)\n",
        "vetor.insere(grafo.pitesti)\n",
        "vetor.insere(grafo.giurgiu)\n",
        "\n",
        "vetor.insere(grafo.urziceni)\n",
        "vetor.insere(grafo.hirsova)\n",
        "vetor.insere(grafo.eforie)\n",
        "vetor.insere(grafo.vaslui)\n",
        "vetor.insere(grafo.lasi)\n",
        "vetor.insere(grafo.neamt)\n"
      ],
      "execution_count": 191,
      "outputs": []
    },
    {
      "cell_type": "code",
      "metadata": {
        "id": "NmIa--Shhi6D",
        "colab": {
          "base_uri": "https://localhost:8080/"
        },
        "outputId": "d9ad9934-0e65-428d-a2b2-8294fc7cba07"
      },
      "source": [
        "vetor.imprime()"
      ],
      "execution_count": 192,
      "outputs": [
        {
          "output_type": "stream",
          "text": [
            "0  -  Bucharest  -  0\n",
            "1  -  Giurgiu  -  77\n",
            "2  -  Urziceni  -  80\n",
            "3  -  Pitesti  -  98\n",
            "4  -  Hirsova  -  151\n",
            "5  -  Craiova  -  160\n",
            "6  -  Eforie  -  161\n",
            "7  -  Fagaras  -  178\n",
            "8  -  Rimnicu  -  193\n",
            "9  -  Vaslui  -  199\n",
            "10  -  Lasi  -  226\n",
            "11  -  Neamt  -  234\n",
            "12  -  Mehadia  -  241\n",
            "13  -  Dobreta  -  242\n",
            "14  -  Sibiu  -  253\n",
            "15  -  Timisoara  -  329\n",
            "16  -  Arad  -  366\n",
            "17  -  Zerind  -  374\n",
            "18  -  Oradea  -  380\n"
          ],
          "name": "stdout"
        }
      ]
    },
    {
      "cell_type": "code",
      "metadata": {
        "id": "0Ffi3HY6hokf",
        "colab": {
          "base_uri": "https://localhost:8080/"
        },
        "outputId": "8ce70a0b-7a8b-477f-c2c6-72ad948bed6e"
      },
      "source": [
        "vetor.insere(grafo.lugoj)\n",
        "vetor.imprime()"
      ],
      "execution_count": 193,
      "outputs": [
        {
          "output_type": "stream",
          "text": [
            "0  -  Bucharest  -  0\n",
            "1  -  Giurgiu  -  77\n",
            "2  -  Urziceni  -  80\n",
            "3  -  Pitesti  -  98\n",
            "4  -  Hirsova  -  151\n",
            "5  -  Craiova  -  160\n",
            "6  -  Eforie  -  161\n",
            "7  -  Fagaras  -  178\n",
            "8  -  Rimnicu  -  193\n",
            "9  -  Vaslui  -  199\n",
            "10  -  Lasi  -  226\n",
            "11  -  Neamt  -  234\n",
            "12  -  Mehadia  -  241\n",
            "13  -  Dobreta  -  242\n",
            "14  -  Lugoj  -  244\n",
            "15  -  Sibiu  -  253\n",
            "16  -  Timisoara  -  329\n",
            "17  -  Arad  -  366\n",
            "18  -  Zerind  -  374\n",
            "19  -  Oradea  -  380\n"
          ],
          "name": "stdout"
        }
      ]
    },
    {
      "cell_type": "code",
      "metadata": {
        "id": "qfqtB9CNh0gB",
        "colab": {
          "base_uri": "https://localhost:8080/"
        },
        "outputId": "5dea95c3-f374-4a83-bd6a-7cd16eb142b7"
      },
      "source": [
        "vetor.valores[0], vetor.valores[0].rotulo"
      ],
      "execution_count": 194,
      "outputs": [
        {
          "output_type": "execute_result",
          "data": {
            "text/plain": [
              "(<__main__.Vertice at 0x7f036b30f950>, 'Bucharest')"
            ]
          },
          "metadata": {
            "tags": []
          },
          "execution_count": 194
        }
      ]
    },
    {
      "cell_type": "markdown",
      "metadata": {
        "id": "Lmvbw_KeNYvX"
      },
      "source": [
        "## Busca gulosa"
      ]
    },
    {
      "cell_type": "code",
      "metadata": {
        "id": "dZPo4FQOh_ab"
      },
      "source": [
        "class Gulosa:\n",
        "  def __init__(self, objetivo):  #iremos inserir a cidade onde queremos chegar, note que o Objeto do tipo Gulosa também será um Vertice \n",
        "    self.objetivo = objetivo\n",
        "    self.encontrado = False  # por padrao todos os objetos do tipo Gulosa terao esse parâmetro False no inicio\n",
        "\n",
        "  def buscar(self, atual):  #inicialmente passaremos a cidade atual do ponto de partida, em seguida será feita uma chamada recursiva\n",
        "    print('-------')\n",
        "    print('Atual: {}'.format(atual.rotulo)) #como o parâmetro atual passado será um objeto do tipo Vertice, ele pegara o rótulo que é o nome da cidade\n",
        "    atual.visitado = True #marcará o atributo encontrado da classe Gulosa como Verdadeiro para aquele objeto atual\n",
        "\n",
        "    if atual == self.objetivo:# caso tenhamos chegado em nosso ponto final\n",
        "      self.encontrado = True  \n",
        "    else:\n",
        "      vetor_ordenado = VetorOrdenado(len(atual.adjacentes)) #cria uma lista utilizando o Método VetorOrdenado. len retorna o tamanho do objeto\n",
        "      for adjacente in atual.adjacentes: # para todo objeto presente dentro da lista adjacentes do objeto Vetor Atual\n",
        "        if adjacente.vertice.visitado == False:  # se esse adjacente ja ainda nao tiver sido visitado\n",
        "          adjacente.vertice.visitado == True\n",
        "          vetor_ordenado.insere(adjacente.vertice)  #como o vetor_ordenado foi igualado a um VetorOrdenado ele herda suas caracteristicas, usando entao o método insere\n",
        "      vetor_ordenado.imprime()\n",
        "\n",
        "      if vetor_ordenado.valores[0] != None:  #se o primeiro valor do vetor_ordenado ( menor distancia) for diferente de nada\n",
        "        self.buscar(vetor_ordenado.valores[0])  # RECURSIVAMENTE chama o próprio método da classe novamente, passando a cidade com menor distancia\n"
      ],
      "execution_count": 195,
      "outputs": []
    },
    {
      "cell_type": "code",
      "metadata": {
        "id": "2q06aV39jXKy",
        "colab": {
          "base_uri": "https://localhost:8080/"
        },
        "outputId": "4cf25e23-36e2-46a5-c8eb-3887fe3080e0"
      },
      "source": [
        "busca_gulosa = Gulosa(grafo.bucharest)\n",
        "busca_gulosa.buscar(grafo.timisoara)"
      ],
      "execution_count": 196,
      "outputs": [
        {
          "output_type": "stream",
          "text": [
            "-------\n",
            "Atual: Timisoara\n",
            "0  -  Lugoj  -  244\n",
            "1  -  Arad  -  366\n",
            "-------\n",
            "Atual: Lugoj\n",
            "0  -  Mehadia  -  241\n",
            "-------\n",
            "Atual: Mehadia\n",
            "0  -  Dobreta  -  242\n",
            "-------\n",
            "Atual: Dobreta\n",
            "0  -  Craiova  -  160\n",
            "-------\n",
            "Atual: Craiova\n",
            "0  -  Pitesti  -  98\n",
            "1  -  Rimnicu  -  193\n",
            "-------\n",
            "Atual: Pitesti\n",
            "0  -  Bucharest  -  0\n",
            "1  -  Rimnicu  -  193\n",
            "-------\n",
            "Atual: Bucharest\n"
          ],
          "name": "stdout"
        }
      ]
    }
  ]
}